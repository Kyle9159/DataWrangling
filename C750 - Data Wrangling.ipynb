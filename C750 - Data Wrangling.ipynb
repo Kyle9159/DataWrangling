{
 "cells": [
  {
   "cell_type": "markdown",
   "metadata": {},
   "source": [
    "# <center> Data Wrangling OpenStreetMap with SQL</center>\n",
    "\n",
    "<center> By: Kyle Hansen </center>\n",
    "\n"
   ]
  },
  {
   "cell_type": "markdown",
   "metadata": {},
   "source": [
    "## <center>Map Area</center>\n",
    "#### <center>Bothell, Washington, USA</center>\n",
    "\n",
    "<img src=\"https://i.imgur.com/EnMjSce.jpeg\" alt=\"Map\" style=\"width: 550px;\"/>\n",
    "<center><a href=\"https://www.openstreetmap.org/relation/237656\">https://www.openstreetmap.org/relation/237656</a></center>\n",
    "\n",
    "\n",
    "<b>Project Summary:</b>\n",
    "For this project, using data wrangling techniques, i chose Bothell, WA map area from OpenStreetMap.org.  The reason for this choice is because i grew up in Bothell.  The cleaned, fixed data starts in XML and is converted into CSV format, and is then imported into a SQL database.\n"
   ]
  },
  {
   "cell_type": "markdown",
   "metadata": {},
   "source": [
    "### Tag Count\n",
    "\n",
    "When Parsing through the Bothell, WA dataset and couting the unique element types by using the tags function, the following are the number of unique tags:"
   ]
  },
  {
   "cell_type": "code",
   "execution_count": 16,
   "metadata": {},
   "outputs": [],
   "source": [
    "osm_file = \"bothell.osm\"\n",
    "import tags\n",
    "import tag_type\n",
    "import audit\n",
    "import pandas as pd"
   ]
  },
  {
   "cell_type": "code",
   "execution_count": 2,
   "metadata": {},
   "outputs": [
    {
     "data": {
      "text/plain": [
       "defaultdict(int,\n",
       "            {'bounds': 1,\n",
       "             'member': 34048,\n",
       "             'meta': 1,\n",
       "             'nd': 700084,\n",
       "             'node': 607354,\n",
       "             'note': 1,\n",
       "             'osm': 1,\n",
       "             'relation': 994,\n",
       "             'tag': 363047,\n",
       "             'way': 79027})"
      ]
     },
     "execution_count": 2,
     "metadata": {},
     "output_type": "execute_result"
    }
   ],
   "source": [
    "tags.count_tags(osm_file)"
   ]
  },
  {
   "cell_type": "markdown",
   "metadata": {},
   "source": [
    "### Tag Patterns\n",
    "\n",
    "There are three regular expression, lower is for tags that contain only lowercase letters and are valid. lower_colon is for other valid tags with a colon in the value. problem is for tags with problematic characters. The results are as below:"
   ]
  },
  {
   "cell_type": "code",
   "execution_count": 3,
   "metadata": {},
   "outputs": [
    {
     "data": {
      "text/plain": [
       "{'lower': 165323, 'lower_colon': 194710, 'other': 3014, 'problem': 0}"
      ]
     },
     "execution_count": 3,
     "metadata": {},
     "output_type": "execute_result"
    }
   ],
   "source": [
    "tag_type.process_map(osm_file)"
   ]
  },
  {
   "cell_type": "markdown",
   "metadata": {},
   "source": [
    "## <center>Problems Seen in the Data</center>\n",
    "\n",
    "### Street Types:\n",
    "\n",
    "Because the data is inputed by users, there is no standard format for names.  With a list of expected street types used, we can use the audit function to see what street addresses have unexpected types.  After running the function, the result shows the majority of the issues involve abbreviations such as St for Street."
   ]
  },
  {
   "cell_type": "markdown",
   "metadata": {
    "scrolled": true
   },
   "source": [
    "<b>Example from output:</b>\n",
    "\n",
    "             'Pl': {'N 202nd Pl'},\n",
    "             'SE': {'17th Ave SE',\n",
    "              '208th St SE',\n",
    "              '27th Ave SE',\n",
    "              '37th DR SE',\n",
    "              '39th Dr. SE'},\n",
    "             'SW': {'196th St SW', '196th Street SW', '236th St SW'},\n",
    "             'South': {'Meridian Avenue South', 'North Creek Parkway South'},\n",
    "             'Southeast': {'10th Avenue Southeast',"
   ]
  },
  {
   "cell_type": "markdown",
   "metadata": {},
   "source": [
    "To fix the abbreviations in the street names, to update with full names, a mapping dictionary can be used:"
   ]
  },
  {
   "cell_type": "code",
   "execution_count": 4,
   "metadata": {
    "collapsed": true,
    "scrolled": true
   },
   "outputs": [],
   "source": [
    "mapping = { \"Ave\": \"Avenue\",\n",
    "            \"Ave.\": \"Avenue\",\n",
    "            \"avenue\": \"Avenue\",\n",
    "            \"ave\": \"Avenue\",\n",
    "            \"Blvd\": \"Boulevard\",\n",
    "            \"Blvd.\": \"Boulevard\",\n",
    "            \"Blvd,\": \"Boulevard\",\n",
    "            \"Boulavard\": \"Boulevard\",\n",
    "            \"Boulvard\": \"Boulevard\",\n",
    "            \"Ct\": \"Court\",\n",
    "            \"Dr\": \"Drive\",\n",
    "            \"Dr.\": \"Drive\",\n",
    "            \"E\": \"East\",\n",
    "            \"Hwy\": \"Highway\",\n",
    "            \"Ln\": \"Lane\",\n",
    "            \"Ln.\": \"Lane\",\n",
    "            \"N\": \"North\",\n",
    "            \"Pl\": \"Place\",\n",
    "            \"Plz\": \"Plaza\",\n",
    "            \"Rd\": \"Road\",\n",
    "            \"Rd.\": \"Road\",\n",
    "            \"S:\": \"South\",\n",
    "            \"St\": \"Street\",\n",
    "            \"St.\": \"Street\",\n",
    "            \"st\": \"Street\",\n",
    "            \"street\": \"Street\",\n",
    "            \"square\": \"Square\",\n",
    "            \"parkway\": \"Parkway\",\n",
    "            \"W\": \"West\",\n",
    "            \"NW\": \"Northwest\",\n",
    "            \"NE\": \"Northeast\",\n",
    "            \"SW\": \"Southwest\",\n",
    "            \"sw\": \"Southwest\",\n",
    "            \"SE\": \"Southeast\",\n",
    "            \"state\": \"State\",\n",
    "            \"99\": \"Highway 99\",\n",
    "            \"WA-99\":\"Highway 99\"\n",
    "            }\n"
   ]
  },
  {
   "cell_type": "code",
   "execution_count": 5,
   "metadata": {
    "scrolled": true
   },
   "outputs": [
    {
     "name": "stdout",
     "output_type": "stream",
     "text": [
      "('NE 145th St.', '=>', 'NE 145th Street')\n",
      "('N 202nd Pl', '=>', 'N 202nd Place')\n",
      "('25th Ave NE', '=>', '25th Ave Northeast')\n",
      "('Ballinger Way NE', '=>', 'Ballinger Way Northeast')\n",
      "('Juanita-Woodinville Way NE', '=>', 'Juanita-Woodinville Way Northeast')\n",
      "('19115 112th Ave NE', '=>', '19115 112th Ave Northeast')\n",
      "('5th Ave NE', '=>', '5th Ave Northeast')\n",
      "('94th Pl NE', '=>', '94th Pl Northeast')\n",
      "('104th Ave NE', '=>', '104th Ave Northeast')\n",
      "('141st Pl NE', '=>', '141st Pl Northeast')\n",
      "('68th Ave NE', '=>', '68th Ave Northeast')\n",
      "('138th Way NE', '=>', '138th Way Northeast')\n",
      "('Bothell Way NE', '=>', 'Bothell Way Northeast')\n",
      "('120th Avenue NE', '=>', '120th Avenue Northeast')\n",
      "('127th Ave NE', '=>', '127th Ave Northeast')\n",
      "('Bothell-Everett Hwy', '=>', 'Bothell-Everett Highway')\n",
      "('196th St SW', '=>', '196th St Southwest')\n",
      "('236th St SW', '=>', '236th St Southwest')\n",
      "('196th Street SW', '=>', '196th Street Southwest')\n",
      "('Martin Way E', '=>', 'Martin Way East')\n",
      "('NE 185th St', '=>', 'NE 185th Street')\n",
      "('NE 205th St', '=>', 'NE 205th Street')\n",
      "('190th St', '=>', '190th Street')\n",
      "('NE 158th St', '=>', 'NE 158th Street')\n",
      "('NE 186th St', '=>', 'NE 186th Street')\n",
      "('NE 145th St', '=>', 'NE 145th Street')\n",
      "('Main St', '=>', 'Main Street')\n",
      "('Hwy 99', '=>', 'Hwy Highway 99')\n",
      "('Highway 99', '=>', 'Highway Highway 99')\n",
      "('State Highway 99', '=>', 'State Highway Highway 99')\n",
      "('68th Ave W', '=>', '68th Ave West')\n",
      "('196th st sw', '=>', '196th st Southwest')\n",
      "('WA-99', '=>', 'Highway 99')\n",
      "('Alderwood Mall Blvd', '=>', 'Alderwood Mall Boulevard')\n",
      "('44th Ave', '=>', '44th Avenue')\n",
      "('208th St SE', '=>', '208th St Southeast')\n",
      "('37th DR SE', '=>', '37th DR Southeast')\n",
      "('17th Ave SE', '=>', '17th Ave Southeast')\n",
      "('27th Ave SE', '=>', '27th Ave Southeast')\n",
      "('39th Dr. SE', '=>', '39th Dr. Southeast')\n"
     ]
    }
   ],
   "source": [
    "audit.fix_street(osm_file)"
   ]
  },
  {
   "cell_type": "markdown",
   "metadata": {},
   "source": [
    "### Postal Codes\n",
    "\n",
    "We also can look at the postal codes in the data.  The zip codes themselves look pretty clean, other than 6 zip codes are in a longer than 5 digit format. After cleaning the extra digits off the long zip codes, there are a total of 16 extra zip codes that are not in the Bothell zip code database from <a href=\"http://www.unitedstateszipcodes.org/zip-code-database/\">http://www.unitedstateszipcodes.org/zip-code-database/</a>."
   ]
  },
  {
   "cell_type": "code",
   "execution_count": 4,
   "metadata": {},
   "outputs": [
    {
     "name": "stdout",
     "output_type": "stream",
     "text": [
      "There are 6 long post codes.\n",
      "Total: 16 zip codes outside of Bothell.\n"
     ]
    },
    {
     "data": {
      "text/html": [
       "<div>\n",
       "<style scoped>\n",
       "    .dataframe tbody tr th:only-of-type {\n",
       "        vertical-align: middle;\n",
       "    }\n",
       "\n",
       "    .dataframe tbody tr th {\n",
       "        vertical-align: top;\n",
       "    }\n",
       "\n",
       "    .dataframe thead th {\n",
       "        text-align: right;\n",
       "    }\n",
       "</style>\n",
       "<table border=\"1\" class=\"dataframe\">\n",
       "  <thead>\n",
       "    <tr style=\"text-align: right;\">\n",
       "      <th></th>\n",
       "      <th>Zip Code</th>\n",
       "    </tr>\n",
       "  </thead>\n",
       "  <tbody>\n",
       "    <tr>\n",
       "      <th>0</th>\n",
       "      <td>98034</td>\n",
       "    </tr>\n",
       "    <tr>\n",
       "      <th>1</th>\n",
       "      <td>98936</td>\n",
       "    </tr>\n",
       "    <tr>\n",
       "      <th>2</th>\n",
       "      <td>98296</td>\n",
       "    </tr>\n",
       "    <tr>\n",
       "      <th>3</th>\n",
       "      <td>98038</td>\n",
       "    </tr>\n",
       "    <tr>\n",
       "      <th>4</th>\n",
       "      <td>98028</td>\n",
       "    </tr>\n",
       "    <tr>\n",
       "      <th>5</th>\n",
       "      <td>98026</td>\n",
       "    </tr>\n",
       "    <tr>\n",
       "      <th>6</th>\n",
       "      <td>98133</td>\n",
       "    </tr>\n",
       "    <tr>\n",
       "      <th>7</th>\n",
       "      <td>98125</td>\n",
       "    </tr>\n",
       "    <tr>\n",
       "      <th>8</th>\n",
       "      <td>98503</td>\n",
       "    </tr>\n",
       "    <tr>\n",
       "      <th>9</th>\n",
       "      <td>98072</td>\n",
       "    </tr>\n",
       "    <tr>\n",
       "      <th>10</th>\n",
       "      <td>98033</td>\n",
       "    </tr>\n",
       "    <tr>\n",
       "      <th>11</th>\n",
       "      <td>98077</td>\n",
       "    </tr>\n",
       "    <tr>\n",
       "      <th>12</th>\n",
       "      <td>98155</td>\n",
       "    </tr>\n",
       "    <tr>\n",
       "      <th>13</th>\n",
       "      <td>98043</td>\n",
       "    </tr>\n",
       "    <tr>\n",
       "      <th>14</th>\n",
       "      <td>98036</td>\n",
       "    </tr>\n",
       "    <tr>\n",
       "      <th>15</th>\n",
       "      <td>98052</td>\n",
       "    </tr>\n",
       "  </tbody>\n",
       "</table>\n",
       "</div>"
      ],
      "text/plain": [
       "   Zip Code\n",
       "0     98034\n",
       "1     98936\n",
       "2     98296\n",
       "3     98038\n",
       "4     98028\n",
       "5     98026\n",
       "6     98133\n",
       "7     98125\n",
       "8     98503\n",
       "9     98072\n",
       "10    98033\n",
       "11    98077\n",
       "12    98155\n",
       "13    98043\n",
       "14    98036\n",
       "15    98052"
      ]
     },
     "execution_count": 4,
     "metadata": {},
     "output_type": "execute_result"
    }
   ],
   "source": [
    "pc = audit.audit_postcode(osm_file)\n",
    "print 'Total: ' + str(len(pc)) + ' zip codes outside of Bothell.'\n",
    "post_codes = pd.DataFrame(data=pc, columns=['Zip Code'])\n",
    "post_codes"
   ]
  },
  {
   "cell_type": "markdown",
   "metadata": {},
   "source": [
    "## <center>Data Overview </center>\n",
    "\n",
    "##### Basic Statistics of the Data:\n",
    "\n",
    "<b>Bothell.osm</b> 141,444 KB<br>\n",
    "<b>Bothell.db</b> 75,838 KB<br>\n",
    "<b>nodes.csv</b> 54,103 KB<br>\n",
    "<b>nodes_tags.csv</b> 2,134 KB<br>\n",
    "<b>ways.csv</b> 5,083 KB<br>\n",
    "<b>ways_nodes.csv</b> 17,096 KB<br>\n",
    "<b>ways_tags.csv</b> 10,487 KB<br>\n",
    "\n"
   ]
  },
  {
   "cell_type": "code",
   "execution_count": 6,
   "metadata": {},
   "outputs": [],
   "source": [
    "import query\n",
    "import pandas as pd\n",
    "import pprint"
   ]
  },
  {
   "cell_type": "markdown",
   "metadata": {},
   "source": [
    "### Number of Nodes"
   ]
  },
  {
   "cell_type": "code",
   "execution_count": null,
   "metadata": {},
   "outputs": [],
   "source": [
    "query = ''' SELECT COUNT(*) FROM nodes '''"
   ]
  },
  {
   "cell_type": "code",
   "execution_count": 7,
   "metadata": {},
   "outputs": [
    {
     "name": "stdout",
     "output_type": "stream",
     "text": [
      "Total Nodes: 607354\n"
     ]
    }
   ],
   "source": [
    "print 'Total Nodes: ' + str(query.num_nodes())"
   ]
  },
  {
   "cell_type": "markdown",
   "metadata": {},
   "source": [
    "### Number of Ways"
   ]
  },
  {
   "cell_type": "code",
   "execution_count": null,
   "metadata": {},
   "outputs": [],
   "source": [
    "query = ''' SELECT COUNT(*) FROM ways '''"
   ]
  },
  {
   "cell_type": "code",
   "execution_count": 8,
   "metadata": {},
   "outputs": [
    {
     "name": "stdout",
     "output_type": "stream",
     "text": [
      "Total Ways: 79027\n"
     ]
    }
   ],
   "source": [
    "print 'Total Ways: ' + str(query.num_ways())"
   ]
  },
  {
   "cell_type": "markdown",
   "metadata": {},
   "source": [
    "### Most Common Ways"
   ]
  },
  {
   "cell_type": "code",
   "execution_count": null,
   "metadata": {},
   "outputs": [],
   "source": [
    "query = '''SELECT key, count(*)\n",
    "            FROM ways_tags \n",
    "            GROUP BY 1 \n",
    "            ORDER BY count(*) DESC \n",
    "            LIMIT 5\n",
    "         '''"
   ]
  },
  {
   "cell_type": "code",
   "execution_count": 9,
   "metadata": {},
   "outputs": [
    {
     "name": "stdout",
     "output_type": "stream",
     "text": [
      "Most Common Ways: \n"
     ]
    },
    {
     "data": {
      "text/html": [
       "<div>\n",
       "<style scoped>\n",
       "    .dataframe tbody tr th:only-of-type {\n",
       "        vertical-align: middle;\n",
       "    }\n",
       "\n",
       "    .dataframe tbody tr th {\n",
       "        vertical-align: top;\n",
       "    }\n",
       "\n",
       "    .dataframe thead th {\n",
       "        text-align: right;\n",
       "    }\n",
       "</style>\n",
       "<table border=\"1\" class=\"dataframe\">\n",
       "  <thead>\n",
       "    <tr style=\"text-align: right;\">\n",
       "      <th></th>\n",
       "      <th>Way</th>\n",
       "      <th>Count</th>\n",
       "    </tr>\n",
       "  </thead>\n",
       "  <tbody>\n",
       "    <tr>\n",
       "      <th>0</th>\n",
       "      <td>building</td>\n",
       "      <td>47771</td>\n",
       "    </tr>\n",
       "    <tr>\n",
       "      <th>1</th>\n",
       "      <td>housenumber</td>\n",
       "      <td>30404</td>\n",
       "    </tr>\n",
       "    <tr>\n",
       "      <th>2</th>\n",
       "      <td>street</td>\n",
       "      <td>30068</td>\n",
       "    </tr>\n",
       "    <tr>\n",
       "      <th>3</th>\n",
       "      <td>city</td>\n",
       "      <td>29952</td>\n",
       "    </tr>\n",
       "    <tr>\n",
       "      <th>4</th>\n",
       "      <td>postcode</td>\n",
       "      <td>29291</td>\n",
       "    </tr>\n",
       "  </tbody>\n",
       "</table>\n",
       "</div>"
      ],
      "text/plain": [
       "           Way  Count\n",
       "0     building  47771\n",
       "1  housenumber  30404\n",
       "2       street  30068\n",
       "3         city  29952\n",
       "4     postcode  29291"
      ]
     },
     "execution_count": 9,
     "metadata": {},
     "output_type": "execute_result"
    }
   ],
   "source": [
    "print 'Most Common Ways: '\n",
    "d = query.common_way_tag()\n",
    "df = pd.DataFrame(data=d, columns=['Way', 'Count'])\n",
    "df"
   ]
  },
  {
   "cell_type": "markdown",
   "metadata": {},
   "source": [
    "### Number of Unique Users"
   ]
  },
  {
   "cell_type": "code",
   "execution_count": null,
   "metadata": {},
   "outputs": [],
   "source": [
    "query = ''' SELECT COUNT(distinct(uid)) \n",
    "            FROM (SELECT uid FROM nodes UNION ALL SELECT uid FROM ways)'''"
   ]
  },
  {
   "cell_type": "code",
   "execution_count": 10,
   "metadata": {},
   "outputs": [
    {
     "name": "stdout",
     "output_type": "stream",
     "text": [
      "Number of Unique Users: 1276\n"
     ]
    }
   ],
   "source": [
    "print 'Number of Unique Users: ' + str(query.num_unique_users())"
   ]
  },
  {
   "cell_type": "markdown",
   "metadata": {},
   "source": [
    "### Number of Unique Bars"
   ]
  },
  {
   "cell_type": "code",
   "execution_count": null,
   "metadata": {},
   "outputs": [],
   "source": [
    "query = '''  SELECT COUNT(distinct id) FROM nodes_tags WHERE value=\"bar\"  '''"
   ]
  },
  {
   "cell_type": "code",
   "execution_count": 11,
   "metadata": {},
   "outputs": [
    {
     "name": "stdout",
     "output_type": "stream",
     "text": [
      "Number of Unique Bars: 8\n"
     ]
    }
   ],
   "source": [
    "print 'Number of Unique Bars: ' + str(query.num_unique_bars())"
   ]
  },
  {
   "cell_type": "markdown",
   "metadata": {},
   "source": [
    "### Number of Unique Schools"
   ]
  },
  {
   "cell_type": "code",
   "execution_count": null,
   "metadata": {},
   "outputs": [],
   "source": [
    "query = '''  SELECT COUNT(*) FROM nodes_tags WHERE value=\"school\"  '''"
   ]
  },
  {
   "cell_type": "code",
   "execution_count": 12,
   "metadata": {},
   "outputs": [
    {
     "name": "stdout",
     "output_type": "stream",
     "text": [
      "Number of Unique Schools: 37\n"
     ]
    }
   ],
   "source": [
    "print 'Number of Unique Schools: ' + str(query.num_unique_schools())"
   ]
  },
  {
   "cell_type": "markdown",
   "metadata": {},
   "source": [
    "### Top Contributers"
   ]
  },
  {
   "cell_type": "code",
   "execution_count": null,
   "metadata": {},
   "outputs": [],
   "source": [
    "query = '''SELECT user, COUNT(*) as num \n",
    "           FROM (SELECT user FROM nodes UNION ALL SELECT user FROM ways) user \n",
    "           GROUP BY user \n",
    "           ORDER BY num DESC \n",
    "           LIMIT 5\n",
    "        '''"
   ]
  },
  {
   "cell_type": "code",
   "execution_count": 13,
   "metadata": {},
   "outputs": [
    {
     "name": "stdout",
     "output_type": "stream",
     "text": [
      "Top Contributers: \n"
     ]
    },
    {
     "data": {
      "text/html": [
       "<div>\n",
       "<style scoped>\n",
       "    .dataframe tbody tr th:only-of-type {\n",
       "        vertical-align: middle;\n",
       "    }\n",
       "\n",
       "    .dataframe tbody tr th {\n",
       "        vertical-align: top;\n",
       "    }\n",
       "\n",
       "    .dataframe thead th {\n",
       "        text-align: right;\n",
       "    }\n",
       "</style>\n",
       "<table border=\"1\" class=\"dataframe\">\n",
       "  <thead>\n",
       "    <tr style=\"text-align: right;\">\n",
       "      <th></th>\n",
       "      <th>User</th>\n",
       "      <th>Count</th>\n",
       "    </tr>\n",
       "  </thead>\n",
       "  <tbody>\n",
       "    <tr>\n",
       "      <th>0</th>\n",
       "      <td>patricknoll_import</td>\n",
       "      <td>238998</td>\n",
       "    </tr>\n",
       "    <tr>\n",
       "      <th>1</th>\n",
       "      <td>Glassman_Import</td>\n",
       "      <td>50865</td>\n",
       "    </tr>\n",
       "    <tr>\n",
       "      <th>2</th>\n",
       "      <td>SeattleImport</td>\n",
       "      <td>44542</td>\n",
       "    </tr>\n",
       "    <tr>\n",
       "      <th>3</th>\n",
       "      <td>seattlefyi_import</td>\n",
       "      <td>43378</td>\n",
       "    </tr>\n",
       "    <tr>\n",
       "      <th>4</th>\n",
       "      <td>Natfoot</td>\n",
       "      <td>30387</td>\n",
       "    </tr>\n",
       "  </tbody>\n",
       "</table>\n",
       "</div>"
      ],
      "text/plain": [
       "                 User   Count\n",
       "0  patricknoll_import  238998\n",
       "1     Glassman_Import   50865\n",
       "2       SeattleImport   44542\n",
       "3   seattlefyi_import   43378\n",
       "4             Natfoot   30387"
      ]
     },
     "execution_count": 13,
     "metadata": {},
     "output_type": "execute_result"
    }
   ],
   "source": [
    "print 'Top Contributers: '\n",
    "d = query.top_contributer()\n",
    "df = pd.DataFrame(data=d, columns=['User', 'Count'])\n",
    "df"
   ]
  },
  {
   "cell_type": "markdown",
   "metadata": {},
   "source": [
    "### Most Popular Religions"
   ]
  },
  {
   "cell_type": "code",
   "execution_count": null,
   "metadata": {},
   "outputs": [],
   "source": [
    "query = '''SELECT nodes_tags.value, COUNT(*) as num \n",
    "           FROM nodes_tags \n",
    "           JOIN (SELECT DISTINCT(id) FROM nodes_tags WHERE value=\"place_of_worship\") i \n",
    "           ON nodes_tags.id=i.id \n",
    "           WHERE nodes_tags.key=\"religion\" \n",
    "           GROUP BY nodes_tags.value \n",
    "           ORDER BY num DESC\n",
    "           LIMIT 2\n",
    "        '''"
   ]
  },
  {
   "cell_type": "code",
   "execution_count": 14,
   "metadata": {},
   "outputs": [
    {
     "name": "stdout",
     "output_type": "stream",
     "text": [
      "Top Religions: \n"
     ]
    },
    {
     "data": {
      "text/html": [
       "<div>\n",
       "<style scoped>\n",
       "    .dataframe tbody tr th:only-of-type {\n",
       "        vertical-align: middle;\n",
       "    }\n",
       "\n",
       "    .dataframe tbody tr th {\n",
       "        vertical-align: top;\n",
       "    }\n",
       "\n",
       "    .dataframe thead th {\n",
       "        text-align: right;\n",
       "    }\n",
       "</style>\n",
       "<table border=\"1\" class=\"dataframe\">\n",
       "  <thead>\n",
       "    <tr style=\"text-align: right;\">\n",
       "      <th></th>\n",
       "      <th>Relgion</th>\n",
       "      <th>Count</th>\n",
       "    </tr>\n",
       "  </thead>\n",
       "  <tbody>\n",
       "    <tr>\n",
       "      <th>0</th>\n",
       "      <td>christian</td>\n",
       "      <td>14</td>\n",
       "    </tr>\n",
       "    <tr>\n",
       "      <th>1</th>\n",
       "      <td>muslim</td>\n",
       "      <td>1</td>\n",
       "    </tr>\n",
       "  </tbody>\n",
       "</table>\n",
       "</div>"
      ],
      "text/plain": [
       "     Relgion  Count\n",
       "0  christian     14\n",
       "1     muslim      1"
      ]
     },
     "execution_count": 14,
     "metadata": {},
     "output_type": "execute_result"
    }
   ],
   "source": [
    "print 'Top Religions: '\n",
    "d = query.most_popular_religion()\n",
    "df = pd.DataFrame(data=d, columns=['Relgion', 'Count'])\n",
    "df"
   ]
  },
  {
   "cell_type": "markdown",
   "metadata": {},
   "source": [
    "### Most Popular Amenity"
   ]
  },
  {
   "cell_type": "code",
   "execution_count": null,
   "metadata": {},
   "outputs": [],
   "source": [
    "query = '''SELECT value, COUNT(distinct id) as num \n",
    "           FROM nodes_tags \n",
    "           WHERE key=\"amenity\" \n",
    "           GROUP BY value \n",
    "           ORDER BY num DESC \n",
    "           LIMIT 10\n",
    "        '''"
   ]
  },
  {
   "cell_type": "code",
   "execution_count": 15,
   "metadata": {},
   "outputs": [
    {
     "name": "stdout",
     "output_type": "stream",
     "text": [
      "Top Amenties: \n"
     ]
    },
    {
     "data": {
      "text/html": [
       "<div>\n",
       "<style scoped>\n",
       "    .dataframe tbody tr th:only-of-type {\n",
       "        vertical-align: middle;\n",
       "    }\n",
       "\n",
       "    .dataframe tbody tr th {\n",
       "        vertical-align: top;\n",
       "    }\n",
       "\n",
       "    .dataframe thead th {\n",
       "        text-align: right;\n",
       "    }\n",
       "</style>\n",
       "<table border=\"1\" class=\"dataframe\">\n",
       "  <thead>\n",
       "    <tr style=\"text-align: right;\">\n",
       "      <th></th>\n",
       "      <th>Amenity</th>\n",
       "      <th>Count</th>\n",
       "    </tr>\n",
       "  </thead>\n",
       "  <tbody>\n",
       "    <tr>\n",
       "      <th>0</th>\n",
       "      <td>restaurant</td>\n",
       "      <td>149</td>\n",
       "    </tr>\n",
       "    <tr>\n",
       "      <th>1</th>\n",
       "      <td>bench</td>\n",
       "      <td>95</td>\n",
       "    </tr>\n",
       "    <tr>\n",
       "      <th>2</th>\n",
       "      <td>fast_food</td>\n",
       "      <td>80</td>\n",
       "    </tr>\n",
       "    <tr>\n",
       "      <th>3</th>\n",
       "      <td>cafe</td>\n",
       "      <td>60</td>\n",
       "    </tr>\n",
       "    <tr>\n",
       "      <th>4</th>\n",
       "      <td>waste_basket</td>\n",
       "      <td>38</td>\n",
       "    </tr>\n",
       "    <tr>\n",
       "      <th>5</th>\n",
       "      <td>school</td>\n",
       "      <td>36</td>\n",
       "    </tr>\n",
       "    <tr>\n",
       "      <th>6</th>\n",
       "      <td>bank</td>\n",
       "      <td>32</td>\n",
       "    </tr>\n",
       "    <tr>\n",
       "      <th>7</th>\n",
       "      <td>bicycle_parking</td>\n",
       "      <td>30</td>\n",
       "    </tr>\n",
       "    <tr>\n",
       "      <th>8</th>\n",
       "      <td>clinic</td>\n",
       "      <td>25</td>\n",
       "    </tr>\n",
       "    <tr>\n",
       "      <th>9</th>\n",
       "      <td>toilets</td>\n",
       "      <td>23</td>\n",
       "    </tr>\n",
       "  </tbody>\n",
       "</table>\n",
       "</div>"
      ],
      "text/plain": [
       "           Amenity  Count\n",
       "0       restaurant    149\n",
       "1            bench     95\n",
       "2        fast_food     80\n",
       "3             cafe     60\n",
       "4     waste_basket     38\n",
       "5           school     36\n",
       "6             bank     32\n",
       "7  bicycle_parking     30\n",
       "8           clinic     25\n",
       "9          toilets     23"
      ]
     },
     "execution_count": 15,
     "metadata": {},
     "output_type": "execute_result"
    }
   ],
   "source": [
    "print 'Top Amenties: '\n",
    "d = query.most_popular_amenity()\n",
    "df = pd.DataFrame(data=d, columns=['Amenity', 'Count'])\n",
    "df"
   ]
  },
  {
   "cell_type": "markdown",
   "metadata": {},
   "source": [
    "## <center>Additional Ideas</center>"
   ]
  },
  {
   "cell_type": "markdown",
   "metadata": {},
   "source": [
    "<ol>\n",
    "   <b><li>Create a standard format for street addresses by autocorrecting abbreviations or allowing the user to choose from a drop down list of options when submitting address</li></b>\n",
    "    The issue for creating a stricter format for inputing contributions would be that it would cost time and money for developement of an updated website interface for doing so.\n",
    "   <b><li>Allow data from outside sources to be imported to expand the information on amentities, attractions, etc.</li></b>\n",
    "           One issue that would occur from allowing outside sources would be matching up the data and making sure the format is inline with the current data\n",
    "     \n",
    "</ol>"
   ]
  }
 ],
 "metadata": {
  "kernelspec": {
   "display_name": "Python 2",
   "language": "python",
   "name": "python2"
  },
  "language_info": {
   "codemirror_mode": {
    "name": "ipython",
    "version": 2
   },
   "file_extension": ".py",
   "mimetype": "text/x-python",
   "name": "python",
   "nbconvert_exporter": "python",
   "pygments_lexer": "ipython2",
   "version": "2.7.18"
  }
 },
 "nbformat": 4,
 "nbformat_minor": 2
}
